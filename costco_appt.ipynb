{
 "cells": [
  {
   "cell_type": "code",
   "execution_count": 1,
   "metadata": {},
   "outputs": [],
   "source": [
    "import requests\n",
    "import smtplib\n",
    "import re\n",
    "from bs4 import BeautifulSoup\n",
    "import time"
   ]
  },
  {
   "cell_type": "code",
   "execution_count": 2,
   "metadata": {},
   "outputs": [],
   "source": [
    "#COSTCO SHERIDAN LOCATION\n",
    "bad_vodoo = 'The site is temporarily disabled. Please check back at a later time.'\n",
    "url = 'https://booknow.appointment-plus.com/d0p3q2rc'\n",
    "response = requests.get(url)\n",
    "soup = BeautifulSoup(response.content, \"html.parser\")\n",
    "vodoo = soup.find_all('td')[-1].text.strip()"
   ]
  },
  {
   "cell_type": "code",
   "execution_count": 2,
   "metadata": {},
   "outputs": [
    {
     "data": {
      "text/plain": [
       "(221, b'2.0.0 closing connection s9sm580801iob.33 - gsmtp')"
      ]
     },
     "execution_count": 2,
     "metadata": {},
     "output_type": "execute_result"
    }
   ],
   "source": [
    "if bad_vodoo != vodoo: \n",
    "    username = 'mccue'\n",
    "    password = 'xxxxxx'\n",
    "    subject = 'check your email'\n",
    "    to_addr = 'markcmccue@gmail.com'\n",
    "    from_addr = 'mccuepython@gmail.com' \n",
    "    message = 'https://booknow.appointment-plus.com/d0p3q2rc/appointments'\n",
    "    server = smtplib.SMTP('smtp.gmail.com', 587)\n",
    "    server.ehlo()\n",
    "    server.starttls()\n",
    "    server.login(username,password)\n",
    "    newmessage = '\\r\\n'.join([\n",
    "              'To: %s' % to_addr,\n",
    "               'From: %s' % from_addr,\n",
    "                'Subject: %s' %subject,\n",
    "                '',\n",
    "                message\n",
    "                ])\n",
    "\n",
    "    server.sendmail(from_addr, to_addr,newmessage)\n",
    "    server.quit()"
   ]
  },
  {
   "cell_type": "code",
   "execution_count": 10,
   "metadata": {},
   "outputs": [
    {
     "ename": "FileNotFoundError",
     "evalue": "[Errno 2] No such file or directory: '/home/ec2-user/cron_check.txt'",
     "output_type": "error",
     "traceback": [
      "\u001b[1;31m---------------------------------------------------------------------------\u001b[0m",
      "\u001b[1;31mFileNotFoundError\u001b[0m                         Traceback (most recent call last)",
      "\u001b[1;32m<ipython-input-10-1dbb0fa3f347>\u001b[0m in \u001b[0;36m<module>\u001b[1;34m\u001b[0m\n\u001b[1;32m----> 1\u001b[1;33m \u001b[0mfile\u001b[0m \u001b[1;33m=\u001b[0m \u001b[0mopen\u001b[0m\u001b[1;33m(\u001b[0m\u001b[1;34m'/home/ec2-user/cron_check.txt'\u001b[0m\u001b[1;33m,\u001b[0m \u001b[1;34m'a+'\u001b[0m\u001b[1;33m)\u001b[0m\u001b[1;33m\u001b[0m\u001b[1;33m\u001b[0m\u001b[0m\n\u001b[0m\u001b[0;32m      2\u001b[0m \u001b[0mfile\u001b[0m\u001b[1;33m.\u001b[0m\u001b[0mwrite\u001b[0m\u001b[1;33m(\u001b[0m\u001b[1;34m\"\\n\"\u001b[0m\u001b[1;33m)\u001b[0m\u001b[1;33m\u001b[0m\u001b[1;33m\u001b[0m\u001b[0m\n\u001b[0;32m      3\u001b[0m \u001b[0mfile\u001b[0m\u001b[1;33m.\u001b[0m\u001b[0mwrite\u001b[0m\u001b[1;33m(\u001b[0m\u001b[1;34m\"Date: {} | Time: {} | Where: {}\"\u001b[0m\u001b[1;33m.\u001b[0m\u001b[0mformat\u001b[0m\u001b[1;33m(\u001b[0m\u001b[0mtime\u001b[0m\u001b[1;33m.\u001b[0m\u001b[0mstrftime\u001b[0m\u001b[1;33m(\u001b[0m\u001b[1;34m'%x'\u001b[0m\u001b[1;33m)\u001b[0m\u001b[1;33m,\u001b[0m \u001b[0mtime\u001b[0m\u001b[1;33m.\u001b[0m\u001b[0mstrftime\u001b[0m\u001b[1;33m(\u001b[0m\u001b[1;34m'%X'\u001b[0m\u001b[1;33m)\u001b[0m\u001b[1;33m,\u001b[0m \u001b[1;34m'Costco'\u001b[0m\u001b[1;33m)\u001b[0m\u001b[1;33m)\u001b[0m\u001b[1;33m\u001b[0m\u001b[1;33m\u001b[0m\u001b[0m\n\u001b[0;32m      4\u001b[0m \u001b[0mfile\u001b[0m\u001b[1;33m.\u001b[0m\u001b[0mclose\u001b[0m\u001b[1;33m(\u001b[0m\u001b[1;33m)\u001b[0m\u001b[1;33m\u001b[0m\u001b[1;33m\u001b[0m\u001b[0m\n",
      "\u001b[1;31mFileNotFoundError\u001b[0m: [Errno 2] No such file or directory: '/home/ec2-user/cron_check.txt'"
     ]
    }
   ],
   "source": [
    "file = open('/home/ec2-user/cron_check.txt', 'a+')\n",
    "file.write(\"\\n\")\n",
    "file.write(\"Date: {} | Time: {} | Where: {}\".format(time.strftime('%x'), time.strftime('%X'), 'Costco'))\n",
    "file.close()"
   ]
  },
  {
   "cell_type": "code",
   "execution_count": 7,
   "metadata": {},
   "outputs": [],
   "source": [
    "#PEPSI CENTER\n",
    "url = 'https://www.primarybio.com/r/truecare24-cdphe'\n",
    "response = requests.get(url)\n",
    "soup = BeautifulSoup(response.content, \"html.parser\")\n",
    "pepsi_center = soup.find('strong').text\n",
    "string_pep = 'As of now, all available appointments have been taken.'"
   ]
  },
  {
   "cell_type": "code",
   "execution_count": 9,
   "metadata": {},
   "outputs": [
    {
     "name": "stdout",
     "output_type": "stream",
     "text": [
      "yep\n"
     ]
    }
   ],
   "source": [
    "if pepsi_center != string_pep:\n",
    "    username = 'mccue'\n",
    "    password = 'xxxxxx'\n",
    "    subject = 'check your email'\n",
    "    to_addr = 'markcmccue@gmail.com'\n",
    "    from_addr = 'mccuepython@gmail.com' \n",
    "    message = 'https://www.primarybio.com/r/truecare24-cdphe'\n",
    "    server = smtplib.SMTP('smtp.gmail.com', 587)\n",
    "    server.ehlo()\n",
    "    server.starttls()\n",
    "    server.login(username,password)\n",
    "    newmessage = '\\r\\n'.join([\n",
    "              'To: %s' % to_addr,\n",
    "               'From: %s' % from_addr,\n",
    "                'Subject: %s' %subject,\n",
    "                '',\n",
    "                message\n",
    "                ])\n",
    "\n",
    "    server.sendmail(from_addr, to_addr,newmessage)\n",
    "    server.quit()"
   ]
  },
  {
   "cell_type": "code",
   "execution_count": null,
   "metadata": {},
   "outputs": [],
   "source": [
    "file = open('/home/ec2-user/cron_check.txt', 'a+')\n",
    "file.write(\"\\n\")\n",
    "file.write(\"Date: {} | Time: {} | Where: {}\".format(time.strftime('%x'), time.strftime('%X'), 'Pepsi Center'))\n",
    "file.close()"
   ]
  },
  {
   "cell_type": "code",
   "execution_count": null,
   "metadata": {},
   "outputs": [],
   "source": []
  }
 ],
 "metadata": {
  "kernelspec": {
   "display_name": "Python 3",
   "language": "python",
   "name": "python3"
  },
  "language_info": {
   "codemirror_mode": {
    "name": "ipython",
    "version": 3
   },
   "file_extension": ".py",
   "mimetype": "text/x-python",
   "name": "python",
   "nbconvert_exporter": "python",
   "pygments_lexer": "ipython3",
   "version": "3.8.8"
  }
 },
 "nbformat": 4,
 "nbformat_minor": 2
}
